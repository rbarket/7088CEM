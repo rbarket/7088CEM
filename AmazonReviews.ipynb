{
 "cells": [
  {
   "cell_type": "code",
   "execution_count": 78,
   "id": "c54a319d",
   "metadata": {},
   "outputs": [
    {
     "name": "stderr",
     "output_type": "stream",
     "text": [
      "[nltk_data] Downloading package stopwords to\n",
      "[nltk_data]     C:\\Users\\barketr\\AppData\\Roaming\\nltk_data...\n",
      "[nltk_data]   Package stopwords is already up-to-date!\n",
      "[nltk_data] Downloading package omw-1.4 to\n",
      "[nltk_data]     C:\\Users\\barketr\\AppData\\Roaming\\nltk_data...\n",
      "[nltk_data]   Package omw-1.4 is already up-to-date!\n",
      "[nltk_data] Downloading package wordnet to\n",
      "[nltk_data]     C:\\Users\\barketr\\AppData\\Roaming\\nltk_data...\n",
      "[nltk_data]   Package wordnet is already up-to-date!\n"
     ]
    }
   ],
   "source": [
    "import pandas as pd\n",
    "import gzip\n",
    "import re\n",
    "import seaborn as sns\n",
    "import numpy as np\n",
    "import math\n",
    "\n",
    "import nltk\n",
    "from nltk.corpus import stopwords\n",
    "nltk.download('stopwords')\n",
    "nltk.download('omw-1.4') # For lemmatizer\n",
    "nltk.download('wordnet')\n",
    "\n",
    "from sklearn.model_selection import train_test_split\n",
    "from sklearn.utils import class_weight\n",
    "from sklearn.metrics import confusion_matrix, ConfusionMatrixDisplay, recall_score, accuracy_score, precision_score\n",
    "from tensorflow import keras\n",
    "from tensorflow.keras.preprocessing.text import Tokenizer\n",
    "from tensorflow.keras.preprocessing.sequence import pad_sequences"
   ]
  },
  {
   "cell_type": "code",
   "execution_count": 3,
   "id": "af7bac86",
   "metadata": {},
   "outputs": [],
   "source": [
    "def getDF(path):\n",
    "    \n",
    "    def parse(path):\n",
    "        g = gzip.open(path, 'rb')\n",
    "        for l in g:\n",
    "            yield eval(l)\n",
    "    \n",
    "    i = 0\n",
    "    df = {}\n",
    "    for d in parse(path):\n",
    "        df[i] = d\n",
    "        i += 1\n",
    "    return pd.DataFrame.from_dict(df, orient='index')"
   ]
  },
  {
   "cell_type": "code",
   "execution_count": 4,
   "id": "70cfcebc",
   "metadata": {},
   "outputs": [],
   "source": [
    "#Takes a few mins\n",
    "toys_df = getDF('reviews_Toys_and_Games_5.json.gz')"
   ]
  },
  {
   "cell_type": "code",
   "execution_count": 5,
   "id": "6ebd9e2f",
   "metadata": {},
   "outputs": [],
   "source": [
    "vid_df = getDF('reviews_Video_Games_5.json.gz')"
   ]
  },
  {
   "cell_type": "code",
   "execution_count": 6,
   "id": "5e250753",
   "metadata": {},
   "outputs": [],
   "source": [
    "sport_df = getDF('reviews_Sports_and_Outdoors_5.json.gz')"
   ]
  },
  {
   "cell_type": "code",
   "execution_count": 7,
   "id": "13bea5e4",
   "metadata": {},
   "outputs": [],
   "source": [
    "vid_data = vid_df[vid_df['overall'] <= 2]\n",
    "sport_data = sport_df[sport_df['overall'] <= 2]"
   ]
  },
  {
   "cell_type": "code",
   "execution_count": 152,
   "id": "951a11c9",
   "metadata": {},
   "outputs": [],
   "source": [
    "df = pd.concat([toys_df, vid_data, sport_data])"
   ]
  },
  {
   "cell_type": "code",
   "execution_count": 153,
   "id": "49a3d97b",
   "metadata": {},
   "outputs": [
    {
     "data": {
      "text/plain": [
       "(215362, 9)"
      ]
     },
     "execution_count": 153,
     "metadata": {},
     "output_type": "execute_result"
    }
   ],
   "source": [
    "df.shape"
   ]
  },
  {
   "cell_type": "code",
   "execution_count": 154,
   "id": "a43da522",
   "metadata": {},
   "outputs": [
    {
     "data": {
      "text/plain": [
       "[Text(0.5, 0, 'Score'),\n",
       " Text(0, 0.5, 'Frequency'),\n",
       " Text(0.5, 1.0, 'Frequency of Review Scores from Amazon Toys and Games')]"
      ]
     },
     "execution_count": 154,
     "metadata": {},
     "output_type": "execute_result"
    },
    {
     "data": {
      "image/png": "[encoded data removed]",
      "text/plain": [
       "<Figure size 432x288 with 1 Axes>"
      ]
     },
     "metadata": {
      "needs_background": "light"
     },
     "output_type": "display_data"
    }
   ],
   "source": [
    "freq = sns.countplot(x='overall', data=df)\n",
    "freq.set(xlabel='Score', ylabel='Frequency', title='Frequency of Review Scores from Amazon Toys and Games')"
   ]
  },
  {
   "cell_type": "code",
   "execution_count": 155,
   "id": "e32768be",
   "metadata": {},
   "outputs": [],
   "source": [
    "# Create 0/1 labels with 1 being negative sentiment\n",
    "df = df.drop(df[df['overall']==3].index)\n",
    "df['label'] = (df['overall'] <= 2).astype(int)"
   ]
  },
  {
   "cell_type": "code",
   "execution_count": 156,
   "id": "9b6c5940",
   "metadata": {},
   "outputs": [
    {
     "data": {
      "text/plain": [
       "0         I like the item pricing. My granddaughter want...\n",
       "1         Love the magnet easel... great for moving to d...\n",
       "2         Both sides are magnetic.  A real plus when you...\n",
       "3         Bought one a few years ago for my daughter and...\n",
       "4         I have a stainless steel refrigerator therefor...\n",
       "                                ...                        \n",
       "295923    this item is bilt to cheaply i do not recomend...\n",
       "295992    Materials and construction are ok, great for t...\n",
       "296043    I have tried the ones sold in the home improve...\n",
       "296050    Nope. Yet another disappointing &#34;cooling&#...\n",
       "296156    These were a free sample for review.  I was ex...\n",
       "Name: reviewText, Length: 196014, dtype: object"
      ]
     },
     "execution_count": 156,
     "metadata": {},
     "output_type": "execute_result"
    }
   ],
   "source": [
    "df['reviewText']"
   ]
  },
  {
   "cell_type": "code",
   "execution_count": 157,
   "id": "a63a801f",
   "metadata": {},
   "outputs": [
    {
     "data": {
      "text/plain": [
       "'Bought one a few years ago for my daughter and she loves it, still using it today. For the holidays we bought one for our niece and she loved it too.'"
      ]
     },
     "execution_count": 157,
     "metadata": {},
     "output_type": "execute_result"
    }
   ],
   "source": [
    "df['reviewText'][3]"
   ]
  },
  {
   "cell_type": "code",
   "execution_count": 158,
   "id": "94142510",
   "metadata": {},
   "outputs": [],
   "source": [
    "stop_words = set(stopwords.words('english'))"
   ]
  },
  {
   "cell_type": "code",
   "execution_count": 159,
   "id": "6d5b9f36",
   "metadata": {},
   "outputs": [],
   "source": [
    "def sanitize(s):\n",
    "    \n",
    "    s = s.lower()\n",
    "    s = re.sub(r'[^A-Za-z0-9 ]+', '', s)\n",
    "    s = ' '.join([word for word in s.split() if word not in (stop_words)])\n",
    "    return s"
   ]
  },
  {
   "cell_type": "code",
   "execution_count": 160,
   "id": "4e312211",
   "metadata": {},
   "outputs": [],
   "source": [
    "san_reviews = df['reviewText'].apply(lambda s: sanitize(s))"
   ]
  },
  {
   "cell_type": "code",
   "execution_count": 161,
   "id": "1e206a20",
   "metadata": {},
   "outputs": [],
   "source": [
    "wn = nltk.stem.WordNetLemmatizer()"
   ]
  },
  {
   "cell_type": "code",
   "execution_count": 162,
   "id": "e34d09fc",
   "metadata": {},
   "outputs": [],
   "source": [
    "def lemmatization(s):\n",
    "    text_list = s.split()\n",
    "    text_list = [wn.lemmatize(x) for x in text_list]\n",
    "    text = \" \".join(text_list)\n",
    "    return text"
   ]
  },
  {
   "cell_type": "code",
   "execution_count": 163,
   "id": "f8e66cd2",
   "metadata": {},
   "outputs": [],
   "source": [
    "san_reviews = san_reviews.apply(lambda s: lemmatization(s))"
   ]
  },
  {
   "cell_type": "code",
   "execution_count": 164,
   "id": "0bce2183",
   "metadata": {},
   "outputs": [
    {
     "data": {
      "text/plain": [
       "'bought one year ago daughter love still using today holiday bought one niece loved'"
      ]
     },
     "execution_count": 164,
     "metadata": {},
     "output_type": "execute_result"
    }
   ],
   "source": [
    "san_reviews[3]"
   ]
  },
  {
   "cell_type": "markdown",
   "id": "9056b11b",
   "metadata": {},
   "source": [
    "## Number of unique words"
   ]
  },
  {
   "cell_type": "code",
   "execution_count": 21,
   "id": "1e901125",
   "metadata": {},
   "outputs": [],
   "source": [
    "import itertools\n",
    "word_list = list(itertools.chain(san_reviews))"
   ]
  },
  {
   "cell_type": "code",
   "execution_count": 22,
   "id": "8a068da5",
   "metadata": {},
   "outputs": [],
   "source": [
    "word_list = [word.split() for word in word_list]"
   ]
  },
  {
   "cell_type": "code",
   "execution_count": 23,
   "id": "086be629",
   "metadata": {},
   "outputs": [
    {
     "data": {
      "text/plain": [
       "56.848663870947995"
      ]
     },
     "execution_count": 23,
     "metadata": {},
     "output_type": "execute_result"
    }
   ],
   "source": [
    "rev_len = [len(word_list[i]) for i in range(len(word_list))]\n",
    "\n",
    "# Average length of review\n",
    "sum(rev_len)/len(rev_len)"
   ]
  },
  {
   "cell_type": "code",
   "execution_count": 22,
   "id": "b4de9a9d",
   "metadata": {},
   "outputs": [],
   "source": [
    "word_list = [word for words in word_list for word in words]"
   ]
  },
  {
   "cell_type": "code",
   "execution_count": 23,
   "id": "3e040832",
   "metadata": {},
   "outputs": [],
   "source": [
    "import collections\n",
    "counts = dict(collections.Counter(word_list))"
   ]
  },
  {
   "cell_type": "code",
   "execution_count": 24,
   "id": "92abc824",
   "metadata": {},
   "outputs": [
    {
     "name": "stdout",
     "output_type": "stream",
     "text": [
      "unique words: 197319\n"
     ]
    }
   ],
   "source": [
    "count_df = pd.DataFrame.from_dict(counts, orient='index')\n",
    "print(f'unique words: {len(count_df)}')\n",
    "count_df.sort_values(by=0, inplace=True, ascending=False)\n",
    "data = count_df[0:20]"
   ]
  },
  {
   "cell_type": "code",
   "execution_count": 25,
   "id": "27ccb8e4",
   "metadata": {},
   "outputs": [
    {
     "data": {
      "text/plain": [
       "<AxesSubplot:xlabel='word', ylabel='frequency'>"
      ]
     },
     "execution_count": 25,
     "metadata": {},
     "output_type": "execute_result"
    },
    {
     "data": {
      "image/png": "[encoded data removed]",
      "text/plain": [
       "<Figure size 432x288 with 1 Axes>"
      ]
     },
     "metadata": {
      "needs_background": "light"
     },
     "output_type": "display_data"
    }
   ],
   "source": [
    "data.plot.bar(xlabel='word', ylabel='frequency')"
   ]
  },
  {
   "cell_type": "markdown",
   "id": "b7821baa",
   "metadata": {},
   "source": [
    "## Model Set up"
   ]
  },
  {
   "cell_type": "code",
   "execution_count": 165,
   "id": "5ca0e905",
   "metadata": {},
   "outputs": [],
   "source": [
    "vocab_size = 4000 # choose based on statistics\n",
    "embedding_dim = 100\n",
    "max_length = 80 # Based on average length"
   ]
  },
  {
   "cell_type": "code",
   "execution_count": 166,
   "id": "719db413",
   "metadata": {
    "scrolled": true
   },
   "outputs": [
    {
     "data": {
      "text/plain": [
       "{0: 0.6988768852283667, 1: 1.7570591082665519}"
      ]
     },
     "execution_count": 166,
     "metadata": {},
     "output_type": "execute_result"
    }
   ],
   "source": [
    "#Compute class weight for unbalanced classes\n",
    "cw = class_weight.compute_class_weight('balanced', classes=np.unique(df['label']), y=df['label'])\n",
    "cw = {i: cw[i] for i in range(len(cw))}\n",
    "cw"
   ]
  },
  {
   "cell_type": "code",
   "execution_count": 167,
   "id": "571ccdc2",
   "metadata": {},
   "outputs": [],
   "source": [
    "X_train, X_test, y_train, y_test = train_test_split(san_reviews.values, df['label'].values, shuffle=True, stratify=df['label'].values)"
   ]
  },
  {
   "cell_type": "code",
   "execution_count": 168,
   "id": "591d6d60",
   "metadata": {},
   "outputs": [
    {
     "data": {
      "text/plain": [
       "array(['thought since month passed amazon would gotten photo description correct still paddlestyle mag pouch even though photo show one returned went bladetechthe build quality item pretty good inside pouch lined feltlike material mine arrived bunch scratch probably resold item paddle discrepancy',\n",
       "       'sight held zero 50 yard fiber optic dot work well outdoors even cloudy day issue backup light bu used low light indoor condition first baffled switch marking backwards yes backwards really figured switch backward next issue backup light worked randomly would come hour later work next day would try would work frustrating since gun sight need reliable yes put brand new battery thing wish something middle 80 sight real 1100 acog sight also available amazon quality control better would exceptional value',\n",
       "       'got puzzle amazon vine program review never done 3d puzzle excited try one outall piece numbered arrow know order put click together puzzle put together three section bottom tower clock portion tower steeple instruction tell number piece go sectioni still sure feel numbered piece make puzzle much easier put togetherbut also dont get fun puzzling picture together two frame piece put section give nice stability towerthe puzzle piece hard plastic corner piece hinged give tower durability make hard bend piece place top tower push piece hard tendency pop place towerthe top portion steeple incredibly tough put together piece lot stress soon get one piece lined another piece would pop back frustrating end piece still arent line completely rightoverall fun puzzle stay together well put together quick put together steeple portion puzzle bit frustrating would put one piece another portion would pop apart fairly small finger still trouble reaching steeple get piece together outside steeple portion really enjoyed putting piece together would recommend enjoy kind numbered 3d puzzle',\n",
       "       ...,\n",
       "       'kid love amazing toy daughter dont let get sight elder one eight year old talk furby time',\n",
       "       'ordered 5 year old granddaughter called 34crazy hair girt34 wasnt sure thing christmas apprehensive shipping date came back dec 20 jan 4 arrived plenty time granddaughter love lot fun',\n",
       "       'originally purchased daughter play like something hand time however link keeo coming apart 34hairs34 easily pulled sometimes put object mouth could possibly pull choke themthis definitely child child mouth alot'],\n",
       "      dtype=object)"
      ]
     },
     "execution_count": 168,
     "metadata": {},
     "output_type": "execute_result"
    }
   ],
   "source": [
    "X_train"
   ]
  },
  {
   "cell_type": "code",
   "execution_count": 169,
   "id": "39bc29c6",
   "metadata": {},
   "outputs": [],
   "source": [
    "tokenizer = Tokenizer(num_words = vocab_size, oov_token='OOV')\n",
    "tokenizer.fit_on_texts(X_train)"
   ]
  },
  {
   "cell_type": "code",
   "execution_count": 170,
   "id": "0921fd3e",
   "metadata": {},
   "outputs": [],
   "source": [
    "X_train = tokenizer.texts_to_sequences(X_train)\n",
    "X_train = pad_sequences(X_train, padding='post', maxlen=max_length)\n",
    "\n",
    "X_test = tokenizer.texts_to_sequences(X_test)\n",
    "X_test = pad_sequences(X_test, padding='post', maxlen=max_length)"
   ]
  },
  {
   "cell_type": "markdown",
   "id": "7d271d5b",
   "metadata": {},
   "source": [
    "## BiLSTM"
   ]
  },
  {
   "cell_type": "code",
   "execution_count": 113,
   "id": "7ba003c0",
   "metadata": {},
   "outputs": [
    {
     "data": {
      "text/plain": [
       "(113430, 80)"
      ]
     },
     "execution_count": 113,
     "metadata": {},
     "output_type": "execute_result"
    }
   ],
   "source": [
    "X_train.shape"
   ]
  },
  {
   "cell_type": "code",
   "execution_count": 171,
   "id": "b59a49e1",
   "metadata": {},
   "outputs": [],
   "source": [
    "bLSTM_model = keras.Sequential([\n",
    "    keras.layers.Embedding(input_dim=vocab_size, output_dim=embedding_dim, input_length=max_length),\n",
    "    keras.layers.Bidirectional(keras.layers.LSTM(64, dropout=0.2)),\n",
    "    keras.layers.Dense(1, activation='sigmoid')\n",
    "])\n",
    "# compile model\n",
    "bLSTM_model.compile(loss='binary_crossentropy',\n",
    "              optimizer='adam',\n",
    "              metrics=[keras.metrics.Recall()],\n",
    "            )"
   ]
  },
  {
   "cell_type": "code",
   "execution_count": 172,
   "id": "a40213a3",
   "metadata": {},
   "outputs": [
    {
     "name": "stdout",
     "output_type": "stream",
     "text": [
      "Epoch 1/5\n",
      "4135/4135 [==============================] - 268s 64ms/step - loss: 0.2067 - recall_14: 0.9101 - val_loss: 0.1790 - val_recall_14: 0.9310\n",
      "Epoch 2/5\n",
      "4135/4135 [==============================] - 269s 65ms/step - loss: 0.1561 - recall_14: 0.9352 - val_loss: 0.1668 - val_recall_14: 0.9374\n",
      "Epoch 3/5\n",
      "4135/4135 [==============================] - 255s 62ms/step - loss: 0.1342 - recall_14: 0.9459 - val_loss: 0.1555 - val_recall_14: 0.9280\n",
      "Epoch 4/5\n",
      "4135/4135 [==============================] - 266s 64ms/step - loss: 0.1146 - recall_14: 0.9551 - val_loss: 0.1760 - val_recall_14: 0.9435\n",
      "Epoch 5/5\n",
      "4135/4135 [==============================] - 256s 62ms/step - loss: 0.0976 - recall_14: 0.9631 - val_loss: 0.1639 - val_recall_14: 0.9242\n"
     ]
    }
   ],
   "source": [
    "num_epochs = 5\n",
    "history = bLSTM_model.fit(X_train, y_train, \n",
    "                    epochs=num_epochs, verbose=1, \n",
    "                    validation_split=0.1,\n",
    "                    class_weight=cw)"
   ]
  },
  {
   "cell_type": "code",
   "execution_count": 173,
   "id": "c4b677f4",
   "metadata": {},
   "outputs": [],
   "source": [
    "results = bLSTM_model.predict(X_test)\n",
    "results = [int(result>0.5) for result in results]"
   ]
  },
  {
   "cell_type": "code",
   "execution_count": 174,
   "id": "23131c34",
   "metadata": {},
   "outputs": [
    {
     "data": {
      "text/plain": [
       "<sklearn.metrics._plot.confusion_matrix.ConfusionMatrixDisplay at 0x220d8481c70>"
      ]
     },
     "execution_count": 174,
     "metadata": {},
     "output_type": "execute_result"
    },
    {
     "data": {
      "image/png": "[encoded data removed]",
      "text/plain": [
       "<Figure size 432x288 with 2 Axes>"
      ]
     },
     "metadata": {
      "needs_background": "light"
     },
     "output_type": "display_data"
    }
   ],
   "source": [
    "cm = confusion_matrix(y_test, results)\n",
    "disp = ConfusionMatrixDisplay(cm)\n",
    "disp.plot()"
   ]
  },
  {
   "cell_type": "code",
   "execution_count": 175,
   "id": "862ba79d",
   "metadata": {
    "scrolled": true
   },
   "outputs": [
    {
     "name": "stdout",
     "output_type": "stream",
     "text": [
      "0.9409435964411068\n",
      "0.8726144716434014\n",
      "0.9279311581211904\n"
     ]
    }
   ],
   "source": [
    "print(accuracy_score(y_test, results))\n",
    "print(precision_score(y_test, results))\n",
    "print(recall_score(y_test, results))"
   ]
  },
  {
   "cell_type": "code",
   "execution_count": 176,
   "id": "00f3f117",
   "metadata": {},
   "outputs": [],
   "source": [
    "bLSTM_model.save('bLSTM1.h5')"
   ]
  },
  {
   "cell_type": "markdown",
   "id": "e1031da2",
   "metadata": {},
   "source": [
    "## LSTM"
   ]
  },
  {
   "cell_type": "code",
   "execution_count": 140,
   "id": "e5ad8bee",
   "metadata": {},
   "outputs": [],
   "source": [
    "LSTM_model = keras.Sequential([\n",
    "    keras.layers.Embedding(input_dim=vocab_size, output_dim=embedding_dim, input_length=max_length),\n",
    "    keras.layers.LSTM(64, return_sequences=True),\n",
    "    keras.layers.LSTM(36),\n",
    "    keras.layers.Dense(1, activation='sigmoid')\n",
    "])\n",
    "# compile model\n",
    "LSTM_model.compile(loss='binary_crossentropy',\n",
    "              optimizer='adam',\n",
    "              metrics=[keras.metrics.Recall()],\n",
    "            )"
   ]
  },
  {
   "cell_type": "code",
   "execution_count": 141,
   "id": "f61d3401",
   "metadata": {},
   "outputs": [
    {
     "name": "stdout",
     "output_type": "stream",
     "text": [
      "Epoch 1/5\n",
      "3191/3191 [==============================] - 186s 56ms/step - loss: 0.6358 - recall_12: 0.4727 - val_loss: 0.6601 - val_recall_12: 0.4372\n",
      "Epoch 2/5\n",
      "3191/3191 [==============================] - 173s 54ms/step - loss: 0.4931 - recall_12: 0.7427 - val_loss: 0.3308 - val_recall_12: 0.8345\n",
      "Epoch 3/5\n",
      "3191/3191 [==============================] - 178s 56ms/step - loss: 0.3122 - recall_12: 0.8657 - val_loss: 0.2506 - val_recall_12: 0.8261\n",
      "Epoch 4/5\n",
      "3191/3191 [==============================] - 170s 53ms/step - loss: 0.2506 - recall_12: 0.9075 - val_loss: 0.2580 - val_recall_12: 0.8527\n",
      "Epoch 5/5\n",
      "3191/3191 [==============================] - 171s 54ms/step - loss: 0.2093 - recall_12: 0.9309 - val_loss: 0.2281 - val_recall_12: 0.8297\n"
     ]
    }
   ],
   "source": [
    "num_epochs = 5\n",
    "history = LSTM_model.fit(X_train, y_train, \n",
    "                    epochs=num_epochs, verbose=1, \n",
    "                    validation_split=0.1,\n",
    "                    class_weight=cw)"
   ]
  },
  {
   "cell_type": "code",
   "execution_count": 177,
   "id": "18a5f43f",
   "metadata": {},
   "outputs": [],
   "source": [
    "LSTM_model = keras.models.load_model('pickles/LSTM1.h5')"
   ]
  },
  {
   "cell_type": "code",
   "execution_count": 184,
   "id": "eb96af59",
   "metadata": {},
   "outputs": [],
   "source": [
    "results = LSTM_model.predict(X_test)"
   ]
  },
  {
   "cell_type": "code",
   "execution_count": 197,
   "id": "891e13bb",
   "metadata": {},
   "outputs": [],
   "source": [
    "res = [int(result>0.40) for result in results]"
   ]
  },
  {
   "cell_type": "code",
   "execution_count": 198,
   "id": "d7e80b02",
   "metadata": {},
   "outputs": [
    {
     "data": {
      "text/plain": [
       "array([[19050, 16009],\n",
       "       [ 3189, 10756]], dtype=int64)"
      ]
     },
     "execution_count": 198,
     "metadata": {},
     "output_type": "execute_result"
    }
   ],
   "source": [
    "cm"
   ]
  },
  {
   "cell_type": "code",
   "execution_count": 199,
   "id": "d9b07bbc",
   "metadata": {},
   "outputs": [
    {
     "data": {
      "text/plain": [
       "<sklearn.metrics._plot.confusion_matrix.ConfusionMatrixDisplay at 0x221090b2520>"
      ]
     },
     "execution_count": 199,
     "metadata": {},
     "output_type": "execute_result"
    },
    {
     "data": {
      "image/png": "[encoded data removed]",
      "text/plain": [
       "<Figure size 432x288 with 2 Axes>"
      ]
     },
     "metadata": {
      "needs_background": "light"
     },
     "output_type": "display_data"
    }
   ],
   "source": [
    "cm = confusion_matrix(y_test, res)\n",
    "disp = ConfusionMatrixDisplay(cm)\n",
    "disp.plot()"
   ]
  },
  {
   "cell_type": "code",
   "execution_count": 183,
   "id": "c3670f97",
   "metadata": {},
   "outputs": [
    {
     "name": "stdout",
     "output_type": "stream",
     "text": [
      "0.669088237694882\n",
      "0.44456378460186496\n",
      "0.6529939046253137\n"
     ]
    }
   ],
   "source": [
    "print(accuracy_score(y_test, results))\n",
    "print(precision_score(y_test, results))\n",
    "print(recall_score(y_test, results))"
   ]
  },
  {
   "cell_type": "code",
   "execution_count": 145,
   "id": "8ce26199",
   "metadata": {},
   "outputs": [],
   "source": [
    "LSTM_model.save('sparse_LSTM2.h5')"
   ]
  },
  {
   "cell_type": "markdown",
   "id": "1d07a683",
   "metadata": {},
   "source": [
    "## RNN"
   ]
  },
  {
   "cell_type": "code",
   "execution_count": 146,
   "id": "efb2ebec",
   "metadata": {},
   "outputs": [],
   "source": [
    "RNN_model = keras.Sequential([\n",
    "    keras.layers.Embedding(vocab_size, embedding_dim, input_length=max_length),\n",
    "    keras.layers.SimpleRNN(64, dropout=0.2, return_sequences=True),\n",
    "    keras.layers.SimpleRNN(36, dropout=0.2),\n",
    "    keras.layers.Dense(1, activation='sigmoid')\n",
    "])\n",
    "\n",
    "RNN_model.compile(loss='binary_crossentropy',\n",
    "              optimizer='adam',\n",
    "              metrics=[keras.metrics.Recall()]\n",
    "                 )"
   ]
  },
  {
   "cell_type": "code",
   "execution_count": 147,
   "id": "c0dfb680",
   "metadata": {
    "scrolled": false
   },
   "outputs": [
    {
     "name": "stdout",
     "output_type": "stream",
     "text": [
      "Epoch 1/5\n",
      "3191/3191 [==============================] - 121s 37ms/step - loss: 0.7011 - recall_13: 0.4950 - val_loss: 0.7212 - val_recall_13: 0.6413\n",
      "Epoch 2/5\n",
      "3191/3191 [==============================] - 115s 36ms/step - loss: 0.6957 - recall_13: 0.5094 - val_loss: 0.7123 - val_recall_13: 0.8007\n",
      "Epoch 3/5\n",
      "3191/3191 [==============================] - 117s 37ms/step - loss: 0.6920 - recall_13: 0.4669 - val_loss: 0.6912 - val_recall_13: 0.4577\n",
      "Epoch 4/5\n",
      "3191/3191 [==============================] - 115s 36ms/step - loss: 0.6861 - recall_13: 0.4336 - val_loss: 0.6526 - val_recall_13: 0.2548\n",
      "Epoch 5/5\n",
      "3191/3191 [==============================] - 116s 37ms/step - loss: 0.6773 - recall_13: 0.3578 - val_loss: 0.6590 - val_recall_13: 0.3176\n"
     ]
    }
   ],
   "source": [
    "#65, 77\n",
    "num_epochs = 5\n",
    "RNNhistory = RNN_model.fit(X_train, y_train, \n",
    "                    epochs=num_epochs, verbose=1, \n",
    "                    validation_split=0.1,\n",
    "                    class_weight=cw)"
   ]
  },
  {
   "cell_type": "code",
   "execution_count": 148,
   "id": "085d677b",
   "metadata": {},
   "outputs": [],
   "source": [
    "results = RNN_model.predict(X_test)\n",
    "results = [int(result>0.5) for result in results]"
   ]
  },
  {
   "cell_type": "code",
   "execution_count": 149,
   "id": "08b25ca3",
   "metadata": {},
   "outputs": [
    {
     "data": {
      "text/plain": [
       "<sklearn.metrics._plot.confusion_matrix.ConfusionMatrixDisplay at 0x2211bf824f0>"
      ]
     },
     "execution_count": 149,
     "metadata": {},
     "output_type": "execute_result"
    },
    {
     "data": {
      "image/png": "[encoded data removed]",
      "text/plain": [
       "<Figure size 432x288 with 2 Axes>"
      ]
     },
     "metadata": {
      "needs_background": "light"
     },
     "output_type": "display_data"
    }
   ],
   "source": [
    "cm = confusion_matrix(y_test, results)\n",
    "disp = ConfusionMatrixDisplay(cm)\n",
    "disp.plot()"
   ]
  },
  {
   "cell_type": "code",
   "execution_count": 150,
   "id": "2fc8a8cd",
   "metadata": {},
   "outputs": [
    {
     "name": "stdout",
     "output_type": "stream",
     "text": [
      "0.7275323988362867\n",
      "0.10001059434262104\n",
      "0.34314794620138134\n"
     ]
    }
   ],
   "source": [
    "print(accuracy_score(y_test, results))\n",
    "print(precision_score(y_test, results))\n",
    "print(recall_score(y_test, results))"
   ]
  },
  {
   "cell_type": "code",
   "execution_count": 151,
   "id": "3ac94bf0",
   "metadata": {},
   "outputs": [],
   "source": [
    "RNN_model.save('sparse_RNN2.h5')"
   ]
  },
  {
   "cell_type": "code",
   "execution_count": null,
   "id": "786f94cc",
   "metadata": {},
   "outputs": [],
   "source": []
  }
 ],
 "metadata": {
  "kernelspec": {
   "display_name": "Python [conda env:CEM7088]",
   "language": "python",
   "name": "conda-env-CEM7088-py"
  },
  "language_info": {
   "codemirror_mode": {
    "name": "ipython",
    "version": 3
   },
   "file_extension": ".py",
   "mimetype": "text/x-python",
   "name": "python",
   "nbconvert_exporter": "python",
   "pygments_lexer": "ipython3",
   "version": "3.9.12"
  }
 },
 "nbformat": 4,
 "nbformat_minor": 5
}
